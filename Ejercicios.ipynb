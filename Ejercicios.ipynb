{
  "nbformat": 4,
  "nbformat_minor": 0,
  "metadata": {
    "colab": {
      "name": "Ejercicios.ipynb",
      "provenance": [],
      "collapsed_sections": [],
      "authorship_tag": "ABX9TyNHIZJRTKKaOCXRvja18TQJ",
      "include_colab_link": true
    },
    "kernelspec": {
      "name": "python3",
      "display_name": "Python 3"
    }
  },
  "cells": [
    {
      "cell_type": "markdown",
      "metadata": {
        "id": "view-in-github",
        "colab_type": "text"
      },
      "source": [
        "<a href=\"https://colab.research.google.com/github/omaceda/hacking-civico/blob/master/Ejercicios.ipynb\" target=\"_parent\"><img src=\"https://colab.research.google.com/assets/colab-badge.svg\" alt=\"Open In Colab\"/></a>"
      ]
    },
    {
      "cell_type": "code",
      "metadata": {
        "id": "3oAGlC3yciNl",
        "colab_type": "code",
        "colab": {
          "base_uri": "https://localhost:8080/",
          "height": 35
        },
        "outputId": "023d7e90-c18f-4749-f393-601cfd85a26a"
      },
      "source": [
        "# Condicionales\n",
        "\n",
        "valor_imeca=100\n",
        "\n",
        "if valor_imeca>0 and valor_imeca<51:\n",
        "  print(\"Calidad del aire es Buena\")\n",
        "elif valor_imeca>50 and valor_imeca<101:\n",
        "  print(\"Calidad del aire es Regular\")\n",
        "elif valor_imeca>100 and valor_imeca<151:\n",
        "  print(\"Calidad del aire es Mala\")\n",
        "elif valor_imeca>150 and valor_imeca<201:\n",
        "  print(\"Calidad del aire es Muy Mala\")\n",
        "else:\n",
        "  print(\"Calidad del aire es Tóxica\")"
      ],
      "execution_count": 14,
      "outputs": [
        {
          "output_type": "stream",
          "text": [
            "Calidad del aire es Regular\n"
          ],
          "name": "stdout"
        }
      ]
    },
    {
      "cell_type": "code",
      "metadata": {
        "id": "O6iXhX8SGy7i",
        "colab_type": "code",
        "colab": {
          "base_uri": "https://localhost:8080/",
          "height": 88
        },
        "outputId": "90381971-3a16-486e-f06c-a63347c0f6e6"
      },
      "source": [
        "# Ciclo for\n",
        "for i in \"hola\":\n",
        "  print(i)\n"
      ],
      "execution_count": 15,
      "outputs": [
        {
          "output_type": "stream",
          "text": [
            "h\n",
            "o\n",
            "l\n",
            "a\n"
          ],
          "name": "stdout"
        }
      ]
    },
    {
      "cell_type": "code",
      "metadata": {
        "id": "k29lJwNmHhug",
        "colab_type": "code",
        "colab": {
          "base_uri": "https://localhost:8080/",
          "height": 71
        },
        "outputId": "e3a1dc23-99a5-4dd9-9750-660fd42e4779"
      },
      "source": [
        "# Range\n",
        "for i in range(3):\n",
        "  print(\"Hola\")"
      ],
      "execution_count": 17,
      "outputs": [
        {
          "output_type": "stream",
          "text": [
            "Hola\n",
            "Hola\n",
            "Hola\n"
          ],
          "name": "stdout"
        }
      ]
    },
    {
      "cell_type": "code",
      "metadata": {
        "id": "R0KI7FYGHTa7",
        "colab_type": "code",
        "colab": {
          "base_uri": "https://localhost:8080/",
          "height": 374
        },
        "outputId": "2803971a-3de0-4107-b2b5-0158528ca380"
      },
      "source": [
        "# Range\n",
        "for i in range(5,101,5):\n",
        "  print(\"El numero: \" +str(i)+\" es múltiplo de 5.\")"
      ],
      "execution_count": 18,
      "outputs": [
        {
          "output_type": "stream",
          "text": [
            "El numero: 5 es múltiplo de 5.\n",
            "El numero: 10 es múltiplo de 5.\n",
            "El numero: 15 es múltiplo de 5.\n",
            "El numero: 20 es múltiplo de 5.\n",
            "El numero: 25 es múltiplo de 5.\n",
            "El numero: 30 es múltiplo de 5.\n",
            "El numero: 35 es múltiplo de 5.\n",
            "El numero: 40 es múltiplo de 5.\n",
            "El numero: 45 es múltiplo de 5.\n",
            "El numero: 50 es múltiplo de 5.\n",
            "El numero: 55 es múltiplo de 5.\n",
            "El numero: 60 es múltiplo de 5.\n",
            "El numero: 65 es múltiplo de 5.\n",
            "El numero: 70 es múltiplo de 5.\n",
            "El numero: 75 es múltiplo de 5.\n",
            "El numero: 80 es múltiplo de 5.\n",
            "El numero: 85 es múltiplo de 5.\n",
            "El numero: 90 es múltiplo de 5.\n",
            "El numero: 95 es múltiplo de 5.\n",
            "El numero: 100 es múltiplo de 5.\n"
          ],
          "name": "stdout"
        }
      ]
    },
    {
      "cell_type": "code",
      "metadata": {
        "id": "SiPZqsR_IOnu",
        "colab_type": "code",
        "colab": {
          "base_uri": "https://localhost:8080/",
          "height": 71
        },
        "outputId": "b2a5ca31-89ce-4878-979d-d2f4398c5fbb"
      },
      "source": [
        "# Ciclo while\n",
        "numero=0\n",
        "while numero<3:\n",
        "  print(\"hola\")\n",
        "  numero=numero+1"
      ],
      "execution_count": 22,
      "outputs": [
        {
          "output_type": "stream",
          "text": [
            "hola\n",
            "hola\n",
            "hola\n"
          ],
          "name": "stdout"
        }
      ]
    },
    {
      "cell_type": "code",
      "metadata": {
        "id": "T_chD_1XI2pg",
        "colab_type": "code",
        "colab": {
          "base_uri": "https://localhost:8080/",
          "height": 196
        },
        "outputId": "ea9cba0c-ee62-48b1-a13b-984b1a8553fb"
      },
      "source": [
        "# Ciclo while\n",
        "personas_enfermas=3\n",
        "dia=0\n",
        "while dia<10:\n",
        "  print(\"Día \"+str(dia)+\", Número de personas enfermas: \"+str(personas_enfermas))\n",
        "  personas_enfermas=personas_enfermas*2\n",
        "  dia=dia+1"
      ],
      "execution_count": 24,
      "outputs": [
        {
          "output_type": "stream",
          "text": [
            "Día 0, Número de personas enfermas: 3\n",
            "Día 1, Número de personas enfermas: 6\n",
            "Día 2, Número de personas enfermas: 12\n",
            "Día 3, Número de personas enfermas: 24\n",
            "Día 4, Número de personas enfermas: 48\n",
            "Día 5, Número de personas enfermas: 96\n",
            "Día 6, Número de personas enfermas: 192\n",
            "Día 7, Número de personas enfermas: 384\n",
            "Día 8, Número de personas enfermas: 768\n",
            "Día 9, Número de personas enfermas: 1536\n"
          ],
          "name": "stdout"
        }
      ]
    },
    {
      "cell_type": "markdown",
      "metadata": {
        "id": "mGdbOr3ZcomN",
        "colab_type": "text"
      },
      "source": [
        "No sé que madre estoy haciendo...... ya ví son ejercicios."
      ]
    }
  ]
}